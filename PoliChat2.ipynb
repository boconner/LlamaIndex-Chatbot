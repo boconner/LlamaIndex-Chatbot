{
  "cells": [
    {
      "cell_type": "code",
      "execution_count": 1,
      "metadata": {
        "colab": {
          "base_uri": "https://localhost:8080/"
        },
        "id": "2W3jCvVQtfzw",
        "outputId": "35a38227-e8e1-4c25-f8e9-8809224170bc"
      },
      "outputs": [
        {
          "name": "stdout",
          "output_type": "stream",
          "text": [
            "Requirement already satisfied: llama-index in c:\\users\\brado\\appdata\\local\\programs\\python\\python311\\lib\\site-packages (0.6.34.post1)\n",
            "Requirement already satisfied: dataclasses-json in c:\\users\\brado\\appdata\\local\\programs\\python\\python311\\lib\\site-packages (from llama-index) (0.5.8)\n",
            "Requirement already satisfied: langchain>=0.0.154 in c:\\users\\brado\\appdata\\local\\programs\\python\\python311\\lib\\site-packages (from llama-index) (0.0.216)\n",
            "Requirement already satisfied: sqlalchemy>=2.0.15 in c:\\users\\brado\\appdata\\local\\programs\\python\\python311\\lib\\site-packages (from llama-index) (2.0.17)\n",
            "Requirement already satisfied: numpy in c:\\users\\brado\\appdata\\local\\programs\\python\\python311\\lib\\site-packages (from llama-index) (1.25.0)\n",
            "Requirement already satisfied: tenacity<9.0.0,>=8.2.0 in c:\\users\\brado\\appdata\\local\\programs\\python\\python311\\lib\\site-packages (from llama-index) (8.2.2)\n",
            "Requirement already satisfied: openai>=0.26.4 in c:\\users\\brado\\appdata\\local\\programs\\python\\python311\\lib\\site-packages (from llama-index) (0.27.8)\n",
            "Requirement already satisfied: pandas in c:\\users\\brado\\appdata\\local\\programs\\python\\python311\\lib\\site-packages (from llama-index) (2.0.2)\n",
            "Requirement already satisfied: urllib3<2 in c:\\users\\brado\\appdata\\local\\programs\\python\\python311\\lib\\site-packages (from llama-index) (1.26.16)\n",
            "Requirement already satisfied: fsspec>=2023.5.0 in c:\\users\\brado\\appdata\\local\\programs\\python\\python311\\lib\\site-packages (from llama-index) (2023.6.0)\n",
            "Requirement already satisfied: typing-inspect==0.8.0 in c:\\users\\brado\\appdata\\local\\programs\\python\\python311\\lib\\site-packages (from llama-index) (0.8.0)\n",
            "Requirement already satisfied: typing-extensions==4.5.0 in c:\\users\\brado\\appdata\\local\\programs\\python\\python311\\lib\\site-packages (from llama-index) (4.5.0)\n",
            "Requirement already satisfied: beautifulsoup4 in c:\\users\\brado\\appdata\\local\\programs\\python\\python311\\lib\\site-packages (from llama-index) (4.12.2)\n",
            "Requirement already satisfied: tiktoken in c:\\users\\brado\\appdata\\local\\programs\\python\\python311\\lib\\site-packages (from llama-index) (0.4.0)\n",
            "Requirement already satisfied: mypy-extensions>=0.3.0 in c:\\users\\brado\\appdata\\local\\programs\\python\\python311\\lib\\site-packages (from typing-inspect==0.8.0->llama-index) (1.0.0)\n",
            "Requirement already satisfied: PyYAML>=5.4.1 in c:\\users\\brado\\appdata\\local\\programs\\python\\python311\\lib\\site-packages (from langchain>=0.0.154->llama-index) (6.0)\n",
            "Requirement already satisfied: aiohttp<4.0.0,>=3.8.3 in c:\\users\\brado\\appdata\\local\\programs\\python\\python311\\lib\\site-packages (from langchain>=0.0.154->llama-index) (3.8.4)\n",
            "Requirement already satisfied: langchainplus-sdk>=0.0.17 in c:\\users\\brado\\appdata\\local\\programs\\python\\python311\\lib\\site-packages (from langchain>=0.0.154->llama-index) (0.0.17)\n",
            "Requirement already satisfied: numexpr<3.0.0,>=2.8.4 in c:\\users\\brado\\appdata\\local\\programs\\python\\python311\\lib\\site-packages (from langchain>=0.0.154->llama-index) (2.8.4)\n",
            "Requirement already satisfied: openapi-schema-pydantic<2.0,>=1.2 in c:\\users\\brado\\appdata\\local\\programs\\python\\python311\\lib\\site-packages (from langchain>=0.0.154->llama-index) (1.2.4)\n",
            "Requirement already satisfied: pydantic<2,>=1 in c:\\users\\brado\\appdata\\local\\programs\\python\\python311\\lib\\site-packages (from langchain>=0.0.154->llama-index) (1.10.9)\n",
            "Requirement already satisfied: requests<3,>=2 in c:\\users\\brado\\appdata\\local\\programs\\python\\python311\\lib\\site-packages (from langchain>=0.0.154->llama-index) (2.31.0)\n",
            "Requirement already satisfied: marshmallow<4.0.0,>=3.3.0 in c:\\users\\brado\\appdata\\local\\programs\\python\\python311\\lib\\site-packages (from dataclasses-json->llama-index) (3.19.0)\n",
            "Requirement already satisfied: marshmallow-enum<2.0.0,>=1.5.1 in c:\\users\\brado\\appdata\\local\\programs\\python\\python311\\lib\\site-packages (from dataclasses-json->llama-index) (1.5.1)\n",
            "Requirement already satisfied: tqdm in c:\\users\\brado\\appdata\\local\\programs\\python\\python311\\lib\\site-packages (from openai>=0.26.4->llama-index) (4.65.0)\n",
            "Requirement already satisfied: greenlet!=0.4.17 in c:\\users\\brado\\appdata\\local\\programs\\python\\python311\\lib\\site-packages (from sqlalchemy>=2.0.15->llama-index) (2.0.2)\n",
            "Requirement already satisfied: soupsieve>1.2 in c:\\users\\brado\\appdata\\local\\programs\\python\\python311\\lib\\site-packages (from beautifulsoup4->llama-index) (2.4.1)\n",
            "Requirement already satisfied: python-dateutil>=2.8.2 in c:\\users\\brado\\appdata\\roaming\\python\\python311\\site-packages (from pandas->llama-index) (2.8.2)\n",
            "Requirement already satisfied: pytz>=2020.1 in c:\\users\\brado\\appdata\\local\\programs\\python\\python311\\lib\\site-packages (from pandas->llama-index) (2023.3)\n",
            "Requirement already satisfied: tzdata>=2022.1 in c:\\users\\brado\\appdata\\local\\programs\\python\\python311\\lib\\site-packages (from pandas->llama-index) (2023.3)\n",
            "Requirement already satisfied: regex>=2022.1.18 in c:\\users\\brado\\appdata\\local\\programs\\python\\python311\\lib\\site-packages (from tiktoken->llama-index) (2023.6.3)\n",
            "Requirement already satisfied: attrs>=17.3.0 in c:\\users\\brado\\appdata\\local\\programs\\python\\python311\\lib\\site-packages (from aiohttp<4.0.0,>=3.8.3->langchain>=0.0.154->llama-index) (23.1.0)\n",
            "Requirement already satisfied: charset-normalizer<4.0,>=2.0 in c:\\users\\brado\\appdata\\local\\programs\\python\\python311\\lib\\site-packages (from aiohttp<4.0.0,>=3.8.3->langchain>=0.0.154->llama-index) (3.1.0)\n",
            "Requirement already satisfied: multidict<7.0,>=4.5 in c:\\users\\brado\\appdata\\local\\programs\\python\\python311\\lib\\site-packages (from aiohttp<4.0.0,>=3.8.3->langchain>=0.0.154->llama-index) (6.0.4)\n",
            "Requirement already satisfied: async-timeout<5.0,>=4.0.0a3 in c:\\users\\brado\\appdata\\local\\programs\\python\\python311\\lib\\site-packages (from aiohttp<4.0.0,>=3.8.3->langchain>=0.0.154->llama-index) (4.0.2)\n",
            "Requirement already satisfied: yarl<2.0,>=1.0 in c:\\users\\brado\\appdata\\local\\programs\\python\\python311\\lib\\site-packages (from aiohttp<4.0.0,>=3.8.3->langchain>=0.0.154->llama-index) (1.9.2)\n",
            "Requirement already satisfied: frozenlist>=1.1.1 in c:\\users\\brado\\appdata\\local\\programs\\python\\python311\\lib\\site-packages (from aiohttp<4.0.0,>=3.8.3->langchain>=0.0.154->llama-index) (1.3.3)\n",
            "Requirement already satisfied: aiosignal>=1.1.2 in c:\\users\\brado\\appdata\\local\\programs\\python\\python311\\lib\\site-packages (from aiohttp<4.0.0,>=3.8.3->langchain>=0.0.154->llama-index) (1.3.1)\n",
            "Requirement already satisfied: packaging>=17.0 in c:\\users\\brado\\appdata\\roaming\\python\\python311\\site-packages (from marshmallow<4.0.0,>=3.3.0->dataclasses-json->llama-index) (23.1)\n",
            "Requirement already satisfied: six>=1.5 in c:\\users\\brado\\appdata\\roaming\\python\\python311\\site-packages (from python-dateutil>=2.8.2->pandas->llama-index) (1.16.0)\n",
            "Requirement already satisfied: idna<4,>=2.5 in c:\\users\\brado\\appdata\\local\\programs\\python\\python311\\lib\\site-packages (from requests<3,>=2->langchain>=0.0.154->llama-index) (3.4)\n",
            "Requirement already satisfied: certifi>=2017.4.17 in c:\\users\\brado\\appdata\\local\\programs\\python\\python311\\lib\\site-packages (from requests<3,>=2->langchain>=0.0.154->llama-index) (2023.5.7)\n",
            "Requirement already satisfied: colorama in c:\\users\\brado\\appdata\\local\\programs\\python\\python311\\lib\\site-packages (from tqdm->openai>=0.26.4->llama-index) (0.4.6)\n",
            "Note: you may need to restart the kernel to use updated packages.\n"
          ]
        }
      ],
      "source": [
        "pip install llama-index\n"
      ]
    },
    {
      "cell_type": "code",
      "execution_count": 2,
      "metadata": {
        "colab": {
          "base_uri": "https://localhost:8080/"
        },
        "id": "fb3g8hp9uk1x",
        "outputId": "dc67e61b-1339-46f4-bc01-5da1a50b5f5b"
      },
      "outputs": [
        {
          "name": "stdout",
          "output_type": "stream",
          "text": [
            "Requirement already satisfied: openai in c:\\users\\brado\\appdata\\local\\programs\\python\\python311\\lib\\site-packages (0.27.8)\n",
            "Requirement already satisfied: requests>=2.20 in c:\\users\\brado\\appdata\\local\\programs\\python\\python311\\lib\\site-packages (from openai) (2.31.0)\n",
            "Requirement already satisfied: tqdm in c:\\users\\brado\\appdata\\local\\programs\\python\\python311\\lib\\site-packages (from openai) (4.65.0)\n",
            "Requirement already satisfied: aiohttp in c:\\users\\brado\\appdata\\local\\programs\\python\\python311\\lib\\site-packages (from openai) (3.8.4)\n",
            "Requirement already satisfied: charset-normalizer<4,>=2 in c:\\users\\brado\\appdata\\local\\programs\\python\\python311\\lib\\site-packages (from requests>=2.20->openai) (3.1.0)\n",
            "Requirement already satisfied: idna<4,>=2.5 in c:\\users\\brado\\appdata\\local\\programs\\python\\python311\\lib\\site-packages (from requests>=2.20->openai) (3.4)\n",
            "Requirement already satisfied: urllib3<3,>=1.21.1 in c:\\users\\brado\\appdata\\local\\programs\\python\\python311\\lib\\site-packages (from requests>=2.20->openai) (1.26.16)\n",
            "Requirement already satisfied: certifi>=2017.4.17 in c:\\users\\brado\\appdata\\local\\programs\\python\\python311\\lib\\site-packages (from requests>=2.20->openai) (2023.5.7)\n",
            "Requirement already satisfied: attrs>=17.3.0 in c:\\users\\brado\\appdata\\local\\programs\\python\\python311\\lib\\site-packages (from aiohttp->openai) (23.1.0)\n",
            "Requirement already satisfied: multidict<7.0,>=4.5 in c:\\users\\brado\\appdata\\local\\programs\\python\\python311\\lib\\site-packages (from aiohttp->openai) (6.0.4)\n",
            "Requirement already satisfied: async-timeout<5.0,>=4.0.0a3 in c:\\users\\brado\\appdata\\local\\programs\\python\\python311\\lib\\site-packages (from aiohttp->openai) (4.0.2)\n",
            "Requirement already satisfied: yarl<2.0,>=1.0 in c:\\users\\brado\\appdata\\local\\programs\\python\\python311\\lib\\site-packages (from aiohttp->openai) (1.9.2)\n",
            "Requirement already satisfied: frozenlist>=1.1.1 in c:\\users\\brado\\appdata\\local\\programs\\python\\python311\\lib\\site-packages (from aiohttp->openai) (1.3.3)\n",
            "Requirement already satisfied: aiosignal>=1.1.2 in c:\\users\\brado\\appdata\\local\\programs\\python\\python311\\lib\\site-packages (from aiohttp->openai) (1.3.1)\n",
            "Requirement already satisfied: colorama in c:\\users\\brado\\appdata\\local\\programs\\python\\python311\\lib\\site-packages (from tqdm->openai) (0.4.6)\n",
            "Note: you may need to restart the kernel to use updated packages.\n"
          ]
        }
      ],
      "source": [
        "pip install openai"
      ]
    },
    {
      "cell_type": "code",
      "execution_count": 3,
      "metadata": {
        "id": "9PM2g5Kbdhpw"
      },
      "outputs": [],
      "source": [
        "import openai\n"
      ]
    },
    {
      "cell_type": "code",
      "execution_count": 4,
      "metadata": {},
      "outputs": [],
      "source": [
        "import os"
      ]
    },
    {
      "cell_type": "code",
      "execution_count": 5,
      "metadata": {},
      "outputs": [],
      "source": [
        "openai.api_key = os.environ.get('OPENAI_API_KEY')"
      ]
    },
    {
      "cell_type": "code",
      "execution_count": 6,
      "metadata": {
        "id": "yXc7rStgu4po"
      },
      "outputs": [
        {
          "name": "stderr",
          "output_type": "stream",
          "text": [
            "c:\\Users\\brado\\AppData\\Local\\Programs\\Python\\Python311\\Lib\\site-packages\\tqdm\\auto.py:21: TqdmWarning: IProgress not found. Please update jupyter and ipywidgets. See https://ipywidgets.readthedocs.io/en/stable/user_install.html\n",
            "  from .autonotebook import tqdm as notebook_tqdm\n"
          ]
        }
      ],
      "source": [
        "from llama_index import SimpleDirectoryReader"
      ]
    },
    {
      "cell_type": "code",
      "execution_count": 7,
      "metadata": {
        "id": "aFoOZTvGvHHZ"
      },
      "outputs": [],
      "source": [
        "from llama_index import GPTVectorStoreIndex"
      ]
    },
    {
      "cell_type": "code",
      "execution_count": 8,
      "metadata": {
        "id": "2oLvlfsx4WAy"
      },
      "outputs": [],
      "source": [
        "from llama_index import StorageContext"
      ]
    },
    {
      "cell_type": "code",
      "execution_count": 9,
      "metadata": {
        "id": "sdfaCEvdvc0W"
      },
      "outputs": [],
      "source": [
        "from llama_index import Document"
      ]
    },
    {
      "cell_type": "code",
      "execution_count": 10,
      "metadata": {
        "colab": {
          "base_uri": "https://localhost:8080/"
        },
        "id": "rAevx6Cn1JqL",
        "outputId": "887f3a10-cc3c-4db4-87b6-6993f683dc83"
      },
      "outputs": [
        {
          "name": "stdout",
          "output_type": "stream",
          "text": [
            "Requirement already satisfied: docx2txt in c:\\users\\brado\\appdata\\local\\programs\\python\\python311\\lib\\site-packages (0.8)\n",
            "Note: you may need to restart the kernel to use updated packages.\n"
          ]
        }
      ],
      "source": [
        "pip install docx2txt"
      ]
    },
    {
      "cell_type": "code",
      "execution_count": 28,
      "metadata": {
        "id": "GYmzYnD2c3up"
      },
      "outputs": [],
      "source": [
        "documents = SimpleDirectoryReader('content').load_data()"
      ]
    },
    {
      "cell_type": "code",
      "execution_count": 29,
      "metadata": {
        "colab": {
          "base_uri": "https://localhost:8080/",
          "height": 475
        },
        "id": "I7D3HF5z9o2O",
        "outputId": "8020f7d5-7717-4040-be81-5fbaf2f17548"
      },
      "outputs": [],
      "source": [
        "index = GPTVectorStoreIndex.from_documents(documents)"
      ]
    },
    {
      "cell_type": "code",
      "execution_count": 13,
      "metadata": {
        "id": "TR9DD5fy9yX1"
      },
      "outputs": [],
      "source": [
        "query_engine = index.as_query_engine()"
      ]
    },
    {
      "cell_type": "code",
      "execution_count": 39,
      "metadata": {
        "id": "nNpDvBC591Fe"
      },
      "outputs": [],
      "source": [
        "response = query_engine.query(\"how many people voted for gretchen whitmer?\")"
      ]
    },
    {
      "cell_type": "code",
      "execution_count": 40,
      "metadata": {
        "id": "WzxX0zuT94oW"
      },
      "outputs": [
        {
          "name": "stdout",
          "output_type": "stream",
          "text": [
            "\n",
            "It is not possible to answer this question with the given context information.\n"
          ]
        }
      ],
      "source": [
        "print(response)"
      ]
    },
    {
      "cell_type": "code",
      "execution_count": 16,
      "metadata": {
        "id": "0Eozpshp-RU0"
      },
      "outputs": [],
      "source": [
        "response = query_engine.query(\"thanks for the info\")"
      ]
    },
    {
      "cell_type": "code",
      "execution_count": 17,
      "metadata": {
        "id": "WGWbMt36-V4m"
      },
      "outputs": [
        {
          "name": "stdout",
          "output_type": "stream",
          "text": [
            "\n",
            "You're welcome! Is there anything else I can help you with?\n"
          ]
        }
      ],
      "source": [
        "print(response)"
      ]
    },
    {
      "cell_type": "code",
      "execution_count": 18,
      "metadata": {
        "id": "jAt46dV9f5QB"
      },
      "outputs": [
        {
          "name": "stdout",
          "output_type": "stream",
          "text": [
            "\n",
            "Sen. Jeff Irwin stands in support of increasing the hourly wage for direct care workers to at least $15 per hour, providing funding for Meals on Wheels, increasing mental health funding, restoring cuts to the Michigan Secretary of State's budget, ongoing funding for YMCA programs, raising the age needed to charge someone as an adult, opposing auto insurance reform, and creating the Michigan Department of Environment, Great Lakes, and Energy.\n"
          ]
        }
      ],
      "source": [
        "response = query_engine.query(\"tell me where Jeff Irwin stands on the issues\")\n",
        "print(response)"
      ]
    },
    {
      "cell_type": "code",
      "execution_count": 19,
      "metadata": {
        "id": "2QMAeNm0gDbu"
      },
      "outputs": [
        {
          "name": "stdout",
          "output_type": "stream",
          "text": [
            "\n",
            "Seniors are a vital part of our community. After a lifetime of hard work, many continue to give back to our communities, and serve as the backbone of our neighborhoods, while others need our help. Seniors live on fixed incomes and struggle to pay for nutritious food due to expensive prescription drug costs, rising utility rates, increased rent, and more. The U.S. Census Bureau will conduct the next Census in 2020, which is important for determining the share of billions in federal funding that Michigan receives for roads, schools, and programs for older adults and those living with disabilities, as well as the number of congressional representatives for each state. Direct care workers are on the front lines every day providing critical care to older adults, helping them with daily living tasks such as bathing, dressing, cooking, and transportation. Meals on Wheels is a program that helps senior citizens eat nutritious meals by providing five per week to homebound, older adults. Sen. Jeff Irwin is committed to doing more to make sure that our seniors, veterans and all of Michigan’s working families are taken care of.\n"
          ]
        }
      ],
      "source": [
        "response = query_engine.query(\"what about seniors\")\n",
        "print(response)"
      ]
    },
    {
      "attachments": {},
      "cell_type": "markdown",
      "metadata": {
        "id": "wt-Ofrx0LkJh"
      },
      "source": []
    },
    {
      "cell_type": "code",
      "execution_count": 20,
      "metadata": {
        "id": "1qkAkGPs-xQF"
      },
      "outputs": [],
      "source": [
        "import logging\n",
        "import sys\n"
      ]
    },
    {
      "cell_type": "code",
      "execution_count": 21,
      "metadata": {
        "id": "iGFyhrEI_Pr-"
      },
      "outputs": [],
      "source": [
        "index.storage_context.persist()"
      ]
    },
    {
      "cell_type": "code",
      "execution_count": 22,
      "metadata": {
        "id": "DXC_gyBT_UDa"
      },
      "outputs": [],
      "source": [
        "from llama_index import StorageContext, load_index_from_storage"
      ]
    },
    {
      "cell_type": "code",
      "execution_count": 23,
      "metadata": {
        "id": "GfRhBqaN_ZPe"
      },
      "outputs": [],
      "source": [
        "# rebuild storage context\n",
        "storage_context = StorageContext.from_defaults(persist_dir=\"./storage\")\n",
        "# load index\n",
        "index = load_index_from_storage(storage_context)"
      ]
    },
    {
      "cell_type": "code",
      "execution_count": 24,
      "metadata": {
        "id": "N1a3DeLY_nvh"
      },
      "outputs": [],
      "source": [
        "response = query_engine.query(\"Where does Jeff stand on taxes?\")"
      ]
    },
    {
      "cell_type": "code",
      "execution_count": 25,
      "metadata": {
        "id": "cTFdLxkpC0xI"
      },
      "outputs": [],
      "source": [
        "response = query_engine.query(\"What is the indian tuition waiver?\")"
      ]
    },
    {
      "cell_type": "code",
      "execution_count": 26,
      "metadata": {
        "id": "D55mQbzvfdfu"
      },
      "outputs": [
        {
          "name": "stdout",
          "output_type": "stream",
          "text": [
            "\n",
            "The Indian Tuition Waiver is a law that was passed in 1976 that provides for the tuition of members of federally-recognized American Indian tribes with 25% or greater blood quantum to be paid by the State of Michigan if they attend a public institution in Michigan. The state has since stopped funding ITW directly and instead requires public universities and community colleges to cover tuition for qualifying students out of their state appropriation.\n"
          ]
        }
      ],
      "source": [
        "print(response)"
      ]
    },
    {
      "cell_type": "code",
      "execution_count": 27,
      "metadata": {
        "id": "mS3U0ynyhbIN"
      },
      "outputs": [
        {
          "name": "stdout",
          "output_type": "stream",
          "text": [
            "\n",
            "To volunteer with Meals on Wheels, contact your local Meals on Wheels program. You can find your local program by visiting the Meals on Wheels America website at https://www.mealsonwheelsamerica.org/find-your-local-program. You can also contact the Washtenaw County Meals on Wheels and Senior Café Programs at (734) 544-2977 for more information.\n"
          ]
        }
      ],
      "source": [
        "response = query_engine.query(\"How do i volunteer?\")\n",
        "print(response)"
      ]
    }
  ],
  "metadata": {
    "colab": {
      "provenance": []
    },
    "kernelspec": {
      "display_name": "Python 3",
      "name": "python3"
    },
    "language_info": {
      "codemirror_mode": {
        "name": "ipython",
        "version": 3
      },
      "file_extension": ".py",
      "mimetype": "text/x-python",
      "name": "python",
      "nbconvert_exporter": "python",
      "pygments_lexer": "ipython3",
      "version": "3.11.4"
    }
  },
  "nbformat": 4,
  "nbformat_minor": 0
}
